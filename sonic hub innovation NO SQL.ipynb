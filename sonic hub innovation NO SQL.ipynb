{
 "cells": [
  {
   "cell_type": "code",
   "execution_count": 1,
   "id": "233f41d2",
   "metadata": {},
   "outputs": [],
   "source": [
    "import subprocess\n",
    "import sys"
   ]
  },
  {
   "cell_type": "code",
   "execution_count": 2,
   "id": "8742b7f5",
   "metadata": {},
   "outputs": [],
   "source": [
    "import pymongo\n",
    "\n",
    "# Establish connection to the MongoDB database\n",
    "mongoclient = pymongo.MongoClient(\"mongodb://localhost:7000/\")\n",
    "\n",
    "# Reference the database (it will be created when data is inserted into a collection for the first time)\n",
    "mydb = mongoclient[\"BEMM4569_GroupR\"]"
   ]
  },
  {
   "cell_type": "code",
   "execution_count": 3,
   "id": "bb89abc3",
   "metadata": {},
   "outputs": [],
   "source": [
    "# Reference specific collections within the database\n",
    "engagementMetrics_collection = mydb[\"engagementMetrics\"]\n",
    "feedback_collection = mydb[\"feedback\"]"
   ]
  },
  {
   "cell_type": "code",
   "execution_count": 4,
   "id": "d8426fbc",
   "metadata": {},
   "outputs": [],
   "source": [
    "# Data for the 'engagementMetrics' collection\n",
    "engagement_data = [\n",
    "    \n",
    "{'_id': 1, 'comments': 50, 'likes': 3000, 'shares': 5000, 'views': 50000},\n",
    "{'_id': 2, 'comments': 110, 'likes': 5500, 'shares': 7500, 'views': 150000},\n",
    "{'_id': 3, 'comments': 150, 'likes': 8200, 'shares': 10600, 'views': 300000},\n",
    "{'_id': 4, 'comments': 230, 'likes': 9000, 'shares': 12500, 'views': 520000},\n",
    "{'_id': 5, 'comments': 290, 'likes': 9500, 'shares': 15500, 'views': 790000},\n",
    "{'_id': 6, 'comments': 330, 'likes': 10000, 'shares': 30000, 'views': 925000},\n",
    "{'_id': 7, 'comments': 390, 'likes': 15000, 'shares': 38000, 'views': 1020000},\n",
    "{'_id': 8, 'comments': 395, 'likes': 16000, 'shares': 38500, 'views': 1100000},\n",
    "{'_id': 9, 'comments': 510, 'likes': 25000, 'shares': 65000, 'views': 1600000},\n",
    "{'_id': 10, 'comments': 710, 'likes': 27000, 'shares': 75000, 'views': 184314},\n",
    "]"
   ]
  },
  {
   "cell_type": "code",
   "execution_count": 5,
   "id": "5a7b49f8",
   "metadata": {},
   "outputs": [],
   "source": [
    "# insert data into 'engagementMetrics'\n",
    "for engagement in engagement_data:\n",
    "    engagementMetrics_collection.update_one({'_id': engagement['_id']}, {'$set': engagement}, upsert=True)"
   ]
  },
  {
   "cell_type": "code",
   "execution_count": 6,
   "id": "338ff11b",
   "metadata": {},
   "outputs": [],
   "source": [
    "# Function to display documents from a collection\n",
    "def display_collection_documents(collection):\n",
    "    for document in collection.find():\n",
    "        print(document)"
   ]
  },
  {
   "cell_type": "code",
   "execution_count": 7,
   "id": "6fe80d27",
   "metadata": {},
   "outputs": [
    {
     "name": "stdout",
     "output_type": "stream",
     "text": [
      "Documents in 'engagementMetrics' collection:\n",
      "{'_id': 1, 'comments': 50, 'likes': 3000, 'shares': 5000, 'views': 50000}\n",
      "{'_id': 2, 'comments': 110, 'likes': 5500, 'shares': 7500, 'views': 150000}\n",
      "{'_id': 3, 'comments': 150, 'likes': 8200, 'shares': 10600, 'views': 300000}\n",
      "{'_id': 4, 'comments': 230, 'likes': 9000, 'shares': 12500, 'views': 520000}\n",
      "{'_id': 5, 'comments': 290, 'likes': 9500, 'shares': 15500, 'views': 790000}\n",
      "{'_id': 6, 'comments': 330, 'likes': 10000, 'shares': 30000, 'views': 925000}\n",
      "{'_id': 7, 'comments': 390, 'likes': 15000, 'shares': 38000, 'views': 1020000}\n",
      "{'_id': 8, 'comments': 395, 'likes': 16000, 'shares': 38500, 'views': 1100000}\n",
      "{'_id': 9, 'comments': 510, 'likes': 25000, 'shares': 65000, 'views': 1600000}\n",
      "{'_id': 10, 'comments': 710, 'likes': 27000, 'shares': 75000, 'views': 184314}\n"
     ]
    }
   ],
   "source": [
    "# Displaying contents of the 'engagementMetrics' collection\n",
    "print(\"Documents in 'engagementMetrics' collection:\")\n",
    "display_collection_documents(engagementMetrics_collection)"
   ]
  },
  {
   "cell_type": "code",
   "execution_count": 8,
   "id": "1af9be62",
   "metadata": {},
   "outputs": [],
   "source": [
    "# Data for the 'feedback' collection\n",
    "feedback_data = [\n",
    "    {'Date': '2024-03-22', 'Overall Quality': 4, 'Relevance': 4, 'Engagement': 1, 'Creativity': 3, 'Recommendation': 5, 'Additional Comments': \"Caught myself humming this tune all day, it's that catchy! 🎶\", '_id': 1},\n",
    "{'Date': '2024-02-09', 'Overall Quality': 3, 'Relevance': 4, 'Engagement': 3, 'Creativity': 5, 'Recommendation': 2, 'Additional Comments': None, '_id': 2},\n",
    "{'Date': '2024-01-14', 'Overall Quality': 3, 'Relevance': 2, 'Engagement': 1, 'Creativity': 5, 'Recommendation': 3, 'Additional Comments': None, '_id': 3},\n",
    "{'Date': '2024-03-09', 'Overall Quality': 5, 'Relevance': 2, 'Engagement': 3, 'Creativity': 1, 'Recommendation': 1, 'Additional Comments': None, '_id': 4},\n",
    "{'Date': '2024-02-15', 'Overall Quality': 5, 'Relevance': 1, 'Engagement': 3, 'Creativity': 4, 'Recommendation': 3, 'Additional Comments': None, '_id': 5},\n",
    "{'Date': '2024-01-07', 'Overall Quality': 5, 'Relevance': 1, 'Engagement': 1, 'Creativity': 4, 'Recommendation': 1, 'Additional Comments': None, '_id': 6},\n",
    "{'Date': '2024-02-17', 'Overall Quality': 3, 'Relevance': 2, 'Engagement': 3, 'Creativity': 1, 'Recommendation': 2, 'Additional Comments': None, '_id': 7},\n",
    "{'Date': '2024-01-22', 'Overall Quality': 2, 'Relevance': 2, 'Engagement': 5, 'Creativity': 4, 'Recommendation': 1, 'Additional Comments': None, '_id': 8},\n",
    "{'Date': '2024-02-01', 'Overall Quality': 5, 'Relevance': 4, 'Engagement': 1, 'Creativity': 3, 'Recommendation': 5, 'Additional Comments': None, '_id': 9},\n",
    "{'Date': '2024-03-09', 'Overall Quality': 1, 'Relevance': 2, 'Engagement': 1, 'Creativity': 2, 'Recommendation': 2, 'Additional Comments': 'The music is not at all related to the content posted, turn off!', '_id': 10},\n",
    "{'Date': '2024-02-23', 'Overall Quality': 5, 'Relevance': 3, 'Engagement': 4, 'Creativity': 3, 'Recommendation': 5, 'Additional Comments': 'Loving the experimental vibes in this track, truly unique. 🧪', '_id': 11},\n",
    "{'Date': '2024-01-31', 'Overall Quality': 5, 'Relevance': 2, 'Engagement': 3, 'Creativity': 2, 'Recommendation': 2, 'Additional Comments': None, '_id': 12},\n",
    "{'Date': '2024-01-04', 'Overall Quality': 5, 'Relevance': 3, 'Engagement': 4, 'Creativity': 1, 'Recommendation': 1, 'Additional Comments': None, '_id': 13},\n",
    "{'Date': '2024-01-15', 'Overall Quality': 1, 'Relevance': 1, 'Engagement': 5, 'Creativity': 4, 'Recommendation': 5, 'Additional Comments': None, '_id': 14},\n",
    "{'Date': '2024-02-20', 'Overall Quality': 2, 'Relevance': 2, 'Engagement': 5, 'Creativity': 4, 'Recommendation': 5, 'Additional Comments': None, '_id': 15},\n",
    "{'Date': '2024-02-13', 'Overall Quality': 4, 'Relevance': 3, 'Engagement': 1, 'Creativity': 3, 'Recommendation': 5, 'Additional Comments': None, '_id': 16},\n",
    "{'Date': '2024-02-17', 'Overall Quality': 5, 'Relevance': 3, 'Engagement': 2, 'Creativity': 2, 'Recommendation': 1, 'Additional Comments': None, '_id': 17},\n",
    "{'Date': '2024-01-12', 'Overall Quality': 2, 'Relevance': 3, 'Engagement': 2, 'Creativity': 3, 'Recommendation': 4, 'Additional Comments': None, '_id': 18},\n",
    "{'Date': '2024-01-10', 'Overall Quality': 2, 'Relevance': 2, 'Engagement': 1, 'Creativity': 5, 'Recommendation': 5, 'Additional Comments': None, '_id': 19},\n",
    "{'Date': '2024-03-07', 'Overall Quality': 1, 'Relevance': 1, 'Engagement': 1, 'Creativity': 2, 'Recommendation': 5, 'Additional Comments': None, '_id': 20},\n",
    "{'Date': '2024-01-12', 'Overall Quality': 4, 'Relevance': 1, 'Engagement': 3, 'Creativity': 1, 'Recommendation': 1, 'Additional Comments': None, '_id': 21},\n",
    "{'Date': '2024-01-03', 'Overall Quality': 2, 'Relevance': 2, 'Engagement': 1, 'Creativity': 4, 'Recommendation': 2, 'Additional Comments': None, '_id': 22},\n",
    "{'Date': '2024-03-06', 'Overall Quality': 4, 'Relevance': 5, 'Engagement': 4, 'Creativity': 5, 'Recommendation': 4, 'Additional Comments': 'This beat is everything! Been dancing all day to it. 💃', '_id': 23},\n",
    "{'Date': '2024-01-07', 'Overall Quality': 2, 'Relevance': 1, 'Engagement': 3, 'Creativity': 3, 'Recommendation': 4, 'Additional Comments': None, '_id': 24},\n",
    "{'Date': '2024-01-06', 'Overall Quality': 5, 'Relevance': 4, 'Engagement': 1, 'Creativity': 5, 'Recommendation': 1, 'Additional Comments': None, '_id': 25},\n",
    "{'Date': '2024-01-20', 'Overall Quality': 5, 'Relevance': 4, 'Engagement': 4, 'Creativity': 5, 'Recommendation': 4, 'Additional Comments': 'This mix is flawless, great selection of tracks. 👌', '_id': 26},\n",
    "{'Date': '2024-03-15', 'Overall Quality': 1, 'Relevance': 2, 'Engagement': 2, 'Creativity': 3, 'Recommendation': 5, 'Additional Comments': None, '_id': 27},\n",
    "{'Date': '2024-01-12', 'Overall Quality': 5, 'Relevance': 4, 'Engagement': 2, 'Creativity': 1, 'Recommendation': 4, 'Additional Comments': None, '_id': 28},\n",
    "{'Date': '2023-01-02', 'Overall Quality': 5, 'Relevance': 4, 'Engagement': 2, 'Creativity': 1, 'Recommendation': 4, 'Additional Comments': None, '_id': 28},\n",
    "{'Date': '2023-01-03', 'Overall Quality': 7, 'Relevance': 4, 'Engagement': 2, 'Creativity': 1, 'Recommendation': 4, 'Additional Comments': None, '_id': 28}\n",
    "]"
   ]
  },
  {
   "cell_type": "code",
   "execution_count": 9,
   "id": "577d7c8a",
   "metadata": {},
   "outputs": [],
   "source": [
    "# Insert data into 'feedback'\n",
    "for feedback in feedback_data:\n",
    "    feedback_collection.update_one({'_id': feedback['_id']}, {'$set': feedback}, upsert=True)"
   ]
  },
  {
   "cell_type": "code",
   "execution_count": 10,
   "id": "68bc211d",
   "metadata": {},
   "outputs": [
    {
     "name": "stdout",
     "output_type": "stream",
     "text": [
      "\n",
      "Documents in 'feedback' collection:\n",
      "{'_id': 1, 'Additional Comments': \"Caught myself humming this tune all day, it's that catchy! 🎶\", 'Creativity': 3, 'Date': '2024-03-22', 'Engagement': 1, 'Overall Quality': 4, 'Recommendation': 5, 'Relevance': 4}\n",
      "{'_id': 2, 'Additional Comments': None, 'Creativity': 5, 'Date': '2024-02-09', 'Engagement': 3, 'Overall Quality': 3, 'Recommendation': 2, 'Relevance': 4}\n",
      "{'_id': 3, 'Additional Comments': None, 'Creativity': 5, 'Date': '2024-01-14', 'Engagement': 1, 'Overall Quality': 3, 'Recommendation': 3, 'Relevance': 2}\n",
      "{'_id': 4, 'Additional Comments': None, 'Creativity': 1, 'Date': '2024-03-09', 'Engagement': 3, 'Overall Quality': 5, 'Recommendation': 1, 'Relevance': 2}\n",
      "{'_id': 5, 'Additional Comments': None, 'Creativity': 4, 'Date': '2024-02-15', 'Engagement': 3, 'Overall Quality': 5, 'Recommendation': 3, 'Relevance': 1}\n",
      "{'_id': 6, 'Additional Comments': None, 'Creativity': 4, 'Date': '2024-01-07', 'Engagement': 1, 'Overall Quality': 5, 'Recommendation': 1, 'Relevance': 1}\n",
      "{'_id': 7, 'Additional Comments': None, 'Creativity': 1, 'Date': '2024-02-17', 'Engagement': 3, 'Overall Quality': 3, 'Recommendation': 2, 'Relevance': 2}\n",
      "{'_id': 8, 'Additional Comments': None, 'Creativity': 4, 'Date': '2024-01-22', 'Engagement': 5, 'Overall Quality': 2, 'Recommendation': 1, 'Relevance': 2}\n",
      "{'_id': 9, 'Additional Comments': None, 'Creativity': 3, 'Date': '2024-02-01', 'Engagement': 1, 'Overall Quality': 5, 'Recommendation': 5, 'Relevance': 4}\n",
      "{'_id': 10, 'Additional Comments': 'The music is not at all related to the content posted, turn off!', 'Creativity': 2, 'Date': '2024-03-09', 'Engagement': 1, 'Overall Quality': 1, 'Recommendation': 2, 'Relevance': 2}\n",
      "{'_id': 11, 'Additional Comments': 'Loving the experimental vibes in this track, truly unique. 🧪', 'Creativity': 3, 'Date': '2024-02-23', 'Engagement': 4, 'Overall Quality': 5, 'Recommendation': 5, 'Relevance': 3}\n",
      "{'_id': 12, 'Additional Comments': None, 'Creativity': 2, 'Date': '2024-01-31', 'Engagement': 3, 'Overall Quality': 5, 'Recommendation': 2, 'Relevance': 2}\n",
      "{'_id': 13, 'Additional Comments': None, 'Creativity': 1, 'Date': '2024-01-04', 'Engagement': 4, 'Overall Quality': 5, 'Recommendation': 1, 'Relevance': 3}\n",
      "{'_id': 14, 'Additional Comments': None, 'Creativity': 4, 'Date': '2024-01-15', 'Engagement': 5, 'Overall Quality': 1, 'Recommendation': 5, 'Relevance': 1}\n",
      "{'_id': 15, 'Additional Comments': None, 'Creativity': 4, 'Date': '2024-02-20', 'Engagement': 5, 'Overall Quality': 2, 'Recommendation': 5, 'Relevance': 2}\n",
      "{'_id': 16, 'Additional Comments': None, 'Creativity': 3, 'Date': '2024-02-13', 'Engagement': 1, 'Overall Quality': 4, 'Recommendation': 5, 'Relevance': 3}\n",
      "{'_id': 17, 'Additional Comments': None, 'Creativity': 2, 'Date': '2024-02-17', 'Engagement': 2, 'Overall Quality': 5, 'Recommendation': 1, 'Relevance': 3}\n",
      "{'_id': 18, 'Additional Comments': None, 'Creativity': 3, 'Date': '2024-01-12', 'Engagement': 2, 'Overall Quality': 2, 'Recommendation': 4, 'Relevance': 3}\n",
      "{'_id': 19, 'Additional Comments': None, 'Creativity': 5, 'Date': '2024-01-10', 'Engagement': 1, 'Overall Quality': 2, 'Recommendation': 5, 'Relevance': 2}\n",
      "{'_id': 20, 'Additional Comments': None, 'Creativity': 2, 'Date': '2024-03-07', 'Engagement': 1, 'Overall Quality': 1, 'Recommendation': 5, 'Relevance': 1}\n",
      "{'_id': 21, 'Additional Comments': None, 'Creativity': 1, 'Date': '2024-01-12', 'Engagement': 3, 'Overall Quality': 4, 'Recommendation': 1, 'Relevance': 1}\n",
      "{'_id': 22, 'Additional Comments': None, 'Creativity': 4, 'Date': '2024-01-03', 'Engagement': 1, 'Overall Quality': 2, 'Recommendation': 2, 'Relevance': 2}\n",
      "{'_id': 23, 'Additional Comments': 'This beat is everything! Been dancing all day to it. 💃', 'Creativity': 5, 'Date': '2024-03-06', 'Engagement': 4, 'Overall Quality': 4, 'Recommendation': 4, 'Relevance': 5}\n",
      "{'_id': 24, 'Additional Comments': None, 'Creativity': 3, 'Date': '2024-01-07', 'Engagement': 3, 'Overall Quality': 2, 'Recommendation': 4, 'Relevance': 1}\n",
      "{'_id': 25, 'Additional Comments': None, 'Creativity': 5, 'Date': '2024-01-06', 'Engagement': 1, 'Overall Quality': 5, 'Recommendation': 1, 'Relevance': 4}\n",
      "{'_id': 26, 'Additional Comments': 'This mix is flawless, great selection of tracks. 👌', 'Creativity': 5, 'Date': '2024-01-20', 'Engagement': 4, 'Overall Quality': 5, 'Recommendation': 4, 'Relevance': 4}\n",
      "{'_id': 27, 'Additional Comments': None, 'Creativity': 3, 'Date': '2024-03-15', 'Engagement': 2, 'Overall Quality': 1, 'Recommendation': 5, 'Relevance': 2}\n",
      "{'_id': 28, 'Additional Comments': None, 'Creativity': 1, 'Date': '2023-01-03', 'Engagement': 2, 'Overall Quality': 7, 'Recommendation': 4, 'Relevance': 4}\n"
     ]
    }
   ],
   "source": [
    "# Function to display documents from a collection\n",
    "def display_collection_documents(collection):\n",
    "    for document in collection.find():\n",
    "        print(document)\n",
    "# Displaying contents of the 'feedback' collection\n",
    "print(\"\\nDocuments in 'feedback' collection:\")\n",
    "display_collection_documents(feedback_collection)"
   ]
  },
  {
   "cell_type": "code",
   "execution_count": 11,
   "id": "5169b525",
   "metadata": {},
   "outputs": [
    {
     "name": "stdout",
     "output_type": "stream",
     "text": [
      "Document with _id 8 replaced successfully. Modified count: 1\n"
     ]
    }
   ],
   "source": [
    "# New data to replace the document with _id 8\n",
    "new_data_for_id_8 = {\n",
    "    \"comments\": 502,  # Replace with the new number of comments\n",
    "    \"likes\":22500 ,        # Replace with the new number of likes\n",
    "    \"shares\": 59000,      # Replace with the new number of shares\n",
    "    \"views\": 1500000         # Replace with the new number of views\n",
    "}\n",
    "\n",
    "# Replace the document in the 'engagementMetrics' collection\n",
    "try:\n",
    "    result = engagementMetrics_collection.replace_one({\"_id\": 8}, new_data_for_id_8)\n",
    "    if result.matched_count:\n",
    "        print(f\"Document with _id 8 replaced successfully. Modified count: {result.modified_count}\")\n",
    "    else:\n",
    "        print(\"No document with _id 8 found.\")\n",
    "except Exception as e:\n",
    "    print(f\"An error occurred: {e}\")\n",
    "\n"
   ]
  },
  {
   "cell_type": "code",
   "execution_count": 12,
   "id": "30941a19",
   "metadata": {},
   "outputs": [
    {
     "name": "stdout",
     "output_type": "stream",
     "text": [
      "Documents in 'engagementMetrics' collection:\n",
      "{'_id': 1, 'comments': 50, 'likes': 3000, 'shares': 5000, 'views': 50000}\n",
      "{'_id': 2, 'comments': 110, 'likes': 5500, 'shares': 7500, 'views': 150000}\n",
      "{'_id': 3, 'comments': 150, 'likes': 8200, 'shares': 10600, 'views': 300000}\n",
      "{'_id': 4, 'comments': 230, 'likes': 9000, 'shares': 12500, 'views': 520000}\n",
      "{'_id': 5, 'comments': 290, 'likes': 9500, 'shares': 15500, 'views': 790000}\n",
      "{'_id': 6, 'comments': 330, 'likes': 10000, 'shares': 30000, 'views': 925000}\n",
      "{'_id': 7, 'comments': 390, 'likes': 15000, 'shares': 38000, 'views': 1020000}\n",
      "{'_id': 8, 'comments': 502, 'likes': 22500, 'shares': 59000, 'views': 1500000}\n",
      "{'_id': 9, 'comments': 510, 'likes': 25000, 'shares': 65000, 'views': 1600000}\n",
      "{'_id': 10, 'comments': 710, 'likes': 27000, 'shares': 75000, 'views': 184314}\n"
     ]
    }
   ],
   "source": [
    "# Function to display documents from a collection\n",
    "def display_collection_documents(collection):\n",
    "    for document in collection.find():\n",
    "        print(document)\n",
    "# Displaying contents of the 'engagementMetrics' collection\n",
    "print(\"Documents in 'engagementMetrics' collection:\")\n",
    "display_collection_documents(engagementMetrics_collection)"
   ]
  },
  {
   "cell_type": "code",
   "execution_count": 13,
   "id": "7ad0d0a5",
   "metadata": {},
   "outputs": [
    {
     "name": "stdout",
     "output_type": "stream",
     "text": [
      "Document with _id 11 inserted successfully.\n"
     ]
    }
   ],
   "source": [
    "# Data for the new document to be inserted\n",
    "new_document = {\n",
    "    \"_id\": 11,\n",
    "    \"likes\": 40000,  # Replace with the actual number of likes\n",
    "    \"comments\": 23000,  # Replace with the actual number of comments\n",
    "    \"shares\": 100000,  # Replace with the actual number of shares\n",
    "    \"views\": 1780000 # Replace with the actual number of views\n",
    "}\n",
    "\n",
    "# Insert the new document into 'engagementMetrics'\n",
    "try:\n",
    "    engagementMetrics_collection.insert_one(new_document)\n",
    "    print(\"Document with _id 11 inserted successfully.\")\n",
    "except pymongo.errors.DuplicateKeyError:\n",
    "    print(\"A document with _id 11 already exists.\")\n",
    "except Exception as e:\n",
    "    print(f\"An error occurred: {e}\")\n"
   ]
  },
  {
   "cell_type": "code",
   "execution_count": 14,
   "id": "c7c22f2d",
   "metadata": {},
   "outputs": [
    {
     "name": "stdout",
     "output_type": "stream",
     "text": [
      "Documents in 'engagementMetrics' collection:\n",
      "{'_id': 1, 'comments': 50, 'likes': 3000, 'shares': 5000, 'views': 50000}\n",
      "{'_id': 2, 'comments': 110, 'likes': 5500, 'shares': 7500, 'views': 150000}\n",
      "{'_id': 3, 'comments': 150, 'likes': 8200, 'shares': 10600, 'views': 300000}\n",
      "{'_id': 4, 'comments': 230, 'likes': 9000, 'shares': 12500, 'views': 520000}\n",
      "{'_id': 5, 'comments': 290, 'likes': 9500, 'shares': 15500, 'views': 790000}\n",
      "{'_id': 6, 'comments': 330, 'likes': 10000, 'shares': 30000, 'views': 925000}\n",
      "{'_id': 7, 'comments': 390, 'likes': 15000, 'shares': 38000, 'views': 1020000}\n",
      "{'_id': 8, 'comments': 502, 'likes': 22500, 'shares': 59000, 'views': 1500000}\n",
      "{'_id': 9, 'comments': 510, 'likes': 25000, 'shares': 65000, 'views': 1600000}\n",
      "{'_id': 10, 'comments': 710, 'likes': 27000, 'shares': 75000, 'views': 184314}\n",
      "{'_id': 11, 'likes': 40000, 'comments': 23000, 'shares': 100000, 'views': 1780000}\n"
     ]
    }
   ],
   "source": [
    "# Function to display documents from a collection\n",
    "def display_collection_documents(collection):\n",
    "    for document in collection.find():\n",
    "        print(document)\n",
    "# Displaying contents of the 'engagementMetrics' collection\n",
    "print(\"Documents in 'engagementMetrics' collection:\")\n",
    "display_collection_documents(engagementMetrics_collection)"
   ]
  },
  {
   "cell_type": "code",
   "execution_count": 15,
   "id": "45e3779d",
   "metadata": {},
   "outputs": [
    {
     "name": "stdout",
     "output_type": "stream",
     "text": [
      "Document with _id 28 deleted successfully.\n"
     ]
    }
   ],
   "source": [
    "# Delete the document with _id 28 from the 'feedback' collection\n",
    "try:\n",
    "    result = feedback_collection.delete_one({\"_id\": 28})\n",
    "    if result.deleted_count:\n",
    "        print(\"Document with _id 28 deleted successfully.\")\n",
    "    else:\n",
    "        print(\"No document with _id 28 found.\")\n",
    "except Exception as e:\n",
    "    print(f\"An error occurred while trying to delete the document: {e}\")\n"
   ]
  },
  {
   "cell_type": "code",
   "execution_count": 16,
   "id": "a46c8de4",
   "metadata": {},
   "outputs": [
    {
     "name": "stdout",
     "output_type": "stream",
     "text": [
      "\n",
      "Documents in 'feedback' collection:\n",
      "{'_id': 1, 'Additional Comments': \"Caught myself humming this tune all day, it's that catchy! 🎶\", 'Creativity': 3, 'Date': '2024-03-22', 'Engagement': 1, 'Overall Quality': 4, 'Recommendation': 5, 'Relevance': 4}\n",
      "{'_id': 2, 'Additional Comments': None, 'Creativity': 5, 'Date': '2024-02-09', 'Engagement': 3, 'Overall Quality': 3, 'Recommendation': 2, 'Relevance': 4}\n",
      "{'_id': 3, 'Additional Comments': None, 'Creativity': 5, 'Date': '2024-01-14', 'Engagement': 1, 'Overall Quality': 3, 'Recommendation': 3, 'Relevance': 2}\n",
      "{'_id': 4, 'Additional Comments': None, 'Creativity': 1, 'Date': '2024-03-09', 'Engagement': 3, 'Overall Quality': 5, 'Recommendation': 1, 'Relevance': 2}\n",
      "{'_id': 5, 'Additional Comments': None, 'Creativity': 4, 'Date': '2024-02-15', 'Engagement': 3, 'Overall Quality': 5, 'Recommendation': 3, 'Relevance': 1}\n",
      "{'_id': 6, 'Additional Comments': None, 'Creativity': 4, 'Date': '2024-01-07', 'Engagement': 1, 'Overall Quality': 5, 'Recommendation': 1, 'Relevance': 1}\n",
      "{'_id': 7, 'Additional Comments': None, 'Creativity': 1, 'Date': '2024-02-17', 'Engagement': 3, 'Overall Quality': 3, 'Recommendation': 2, 'Relevance': 2}\n",
      "{'_id': 8, 'Additional Comments': None, 'Creativity': 4, 'Date': '2024-01-22', 'Engagement': 5, 'Overall Quality': 2, 'Recommendation': 1, 'Relevance': 2}\n",
      "{'_id': 9, 'Additional Comments': None, 'Creativity': 3, 'Date': '2024-02-01', 'Engagement': 1, 'Overall Quality': 5, 'Recommendation': 5, 'Relevance': 4}\n",
      "{'_id': 10, 'Additional Comments': 'The music is not at all related to the content posted, turn off!', 'Creativity': 2, 'Date': '2024-03-09', 'Engagement': 1, 'Overall Quality': 1, 'Recommendation': 2, 'Relevance': 2}\n",
      "{'_id': 11, 'Additional Comments': 'Loving the experimental vibes in this track, truly unique. 🧪', 'Creativity': 3, 'Date': '2024-02-23', 'Engagement': 4, 'Overall Quality': 5, 'Recommendation': 5, 'Relevance': 3}\n",
      "{'_id': 12, 'Additional Comments': None, 'Creativity': 2, 'Date': '2024-01-31', 'Engagement': 3, 'Overall Quality': 5, 'Recommendation': 2, 'Relevance': 2}\n",
      "{'_id': 13, 'Additional Comments': None, 'Creativity': 1, 'Date': '2024-01-04', 'Engagement': 4, 'Overall Quality': 5, 'Recommendation': 1, 'Relevance': 3}\n",
      "{'_id': 14, 'Additional Comments': None, 'Creativity': 4, 'Date': '2024-01-15', 'Engagement': 5, 'Overall Quality': 1, 'Recommendation': 5, 'Relevance': 1}\n",
      "{'_id': 15, 'Additional Comments': None, 'Creativity': 4, 'Date': '2024-02-20', 'Engagement': 5, 'Overall Quality': 2, 'Recommendation': 5, 'Relevance': 2}\n",
      "{'_id': 16, 'Additional Comments': None, 'Creativity': 3, 'Date': '2024-02-13', 'Engagement': 1, 'Overall Quality': 4, 'Recommendation': 5, 'Relevance': 3}\n",
      "{'_id': 17, 'Additional Comments': None, 'Creativity': 2, 'Date': '2024-02-17', 'Engagement': 2, 'Overall Quality': 5, 'Recommendation': 1, 'Relevance': 3}\n",
      "{'_id': 18, 'Additional Comments': None, 'Creativity': 3, 'Date': '2024-01-12', 'Engagement': 2, 'Overall Quality': 2, 'Recommendation': 4, 'Relevance': 3}\n",
      "{'_id': 19, 'Additional Comments': None, 'Creativity': 5, 'Date': '2024-01-10', 'Engagement': 1, 'Overall Quality': 2, 'Recommendation': 5, 'Relevance': 2}\n",
      "{'_id': 20, 'Additional Comments': None, 'Creativity': 2, 'Date': '2024-03-07', 'Engagement': 1, 'Overall Quality': 1, 'Recommendation': 5, 'Relevance': 1}\n",
      "{'_id': 21, 'Additional Comments': None, 'Creativity': 1, 'Date': '2024-01-12', 'Engagement': 3, 'Overall Quality': 4, 'Recommendation': 1, 'Relevance': 1}\n",
      "{'_id': 22, 'Additional Comments': None, 'Creativity': 4, 'Date': '2024-01-03', 'Engagement': 1, 'Overall Quality': 2, 'Recommendation': 2, 'Relevance': 2}\n",
      "{'_id': 23, 'Additional Comments': 'This beat is everything! Been dancing all day to it. 💃', 'Creativity': 5, 'Date': '2024-03-06', 'Engagement': 4, 'Overall Quality': 4, 'Recommendation': 4, 'Relevance': 5}\n",
      "{'_id': 24, 'Additional Comments': None, 'Creativity': 3, 'Date': '2024-01-07', 'Engagement': 3, 'Overall Quality': 2, 'Recommendation': 4, 'Relevance': 1}\n",
      "{'_id': 25, 'Additional Comments': None, 'Creativity': 5, 'Date': '2024-01-06', 'Engagement': 1, 'Overall Quality': 5, 'Recommendation': 1, 'Relevance': 4}\n",
      "{'_id': 26, 'Additional Comments': 'This mix is flawless, great selection of tracks. 👌', 'Creativity': 5, 'Date': '2024-01-20', 'Engagement': 4, 'Overall Quality': 5, 'Recommendation': 4, 'Relevance': 4}\n",
      "{'_id': 27, 'Additional Comments': None, 'Creativity': 3, 'Date': '2024-03-15', 'Engagement': 2, 'Overall Quality': 1, 'Recommendation': 5, 'Relevance': 2}\n"
     ]
    }
   ],
   "source": [
    "# Function to display documents from a collection\n",
    "def display_collection_documents(collection):\n",
    "    for document in collection.find():\n",
    "        print(document)\n",
    "# Displaying contents of the 'feedback' collection\n",
    "print(\"\\nDocuments in 'feedback' collection:\")\n",
    "display_collection_documents(feedback_collection)"
   ]
  },
  {
   "cell_type": "code",
   "execution_count": null,
   "id": "50359e46",
   "metadata": {},
   "outputs": [],
   "source": []
  }
 ],
 "metadata": {
  "kernelspec": {
   "display_name": "Python 3 (ipykernel)",
   "language": "python",
   "name": "python3"
  },
  "language_info": {
   "codemirror_mode": {
    "name": "ipython",
    "version": 3
   },
   "file_extension": ".py",
   "mimetype": "text/x-python",
   "name": "python",
   "nbconvert_exporter": "python",
   "pygments_lexer": "ipython3",
   "version": "3.11.4"
  }
 },
 "nbformat": 4,
 "nbformat_minor": 5
}
